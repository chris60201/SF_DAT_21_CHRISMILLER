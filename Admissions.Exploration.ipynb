{
 "cells": [
  {
   "cell_type": "markdown",
   "metadata": {},
   "source": [
    "# Admissions Exploration:\n",
    "\n",
    "Using Hogwarts University's admissions data, determine how likely an applicant would be accepted to the university using the applicants GRE scores, GPA from their high school and the rank of its prestige. \n",
    "\n",
    "**1. What are the outcomes?**\n",
    "  \n",
    "  The primary result will determine a relationship between scores (GRE, GPA and School Prestige) and acceptance into Hogwarts. It may be direct or indirect. \n",
    "  \n",
    "  If the primary result is an indirect correlation to whether an applicant was admitted, a secondary result could determine the range of scores where decisions can be based on factors other than the scores provided.\n",
    "\n",
    "**2. What are the predictors/covariates?** \n",
    "\n",
    "  GRE, GPA and Prestige of School."
   ]
  },
  {
   "cell_type": "markdown",
   "metadata": {},
   "source": [
    "## Problem Statement:\n",
    "\n",
    "**The Problem:** The head of Admissions at Hogwarts University is looking for a faster way of processing applications. They would like to examine 400 applicants' data to determine the relationship of available statistics (GRE, GPA and Prestige) and the applicant's acceptance into Hogwarts. Finding this relationship will speed up the selection process in future admission rounds.\n",
    "\n",
    "**The Data:** The admissions team has collected the following data from 400 applicants\n",
    "* Whether they were admitted\n",
    "* GRE Score\n",
    "* GPA \n",
    "* Prestige of High School\n",
    "\n",
    "**Hypotheses:** There is likely a strong correlation between the scores and the applicants admission into Hogwarts. It is likely that it is not a direct correlation, however certain high and low score thresholds may offer a direct correlation and be useful to expedite the admissions process. \n",
    "\n",
    "**Assumptions**\n",
    "* The 400 addmissions data sets are a true random sample of all of data available.\n",
    "* The GRE Score range is from 220 to 900, where higher scores are preferred.\n",
    "* The GPA scores are on a classic 4.0 scale, where 4.0 is preferred. \n",
    "* The Prestige ranking is on a scale where 4 is most prestige and 1 is the least. \n",
    "* In Column Admit: 1 = Admitted and 0 = Not Admitted.\n",
    "\n",
    "**Risks:**\n",
    "* GRE scores vary per year. If the GRE scores represent different years of the test, then they are not analogous.\n",
    "* Prestige value leaves a lot to be desired. The scores are limited to four choices, much narrower in variance when compared to GRE and GPA scores.\n",
    "* The analytical results of this exploration represent three attributes of candidates for admission. There are likely other attributes the school can look at before making a decision. \n"
   ]
  },
  {
   "cell_type": "markdown",
   "metadata": {},
   "source": [
    "## Exploratory Analysis Methods:\n",
    "\n",
    "**Normalize, chart and explore.**\n",
    "\n",
    "* The Analysis methods would include normalizing the data for records with all data points.\n",
    "* Create visualizations for accepted and non-accepted students.\n",
    "* Examine relationships between the data points and visualizing those. \n"
   ]
  }
 ],
 "metadata": {
  "kernelspec": {
   "display_name": "Python 2",
   "language": "python",
   "name": "python2"
  },
  "language_info": {
   "codemirror_mode": {
    "name": "ipython",
    "version": 2
   },
   "file_extension": ".py",
   "mimetype": "text/x-python",
   "name": "python",
   "nbconvert_exporter": "python",
   "pygments_lexer": "ipython2",
   "version": "2.7.11"
  }
 },
 "nbformat": 4,
 "nbformat_minor": 0
}
