{
 "cells": [
  {
   "cell_type": "markdown",
   "metadata": {},
   "source": [
    "# SF-DAT-21 | Unit Project 4\n",
    "\n",
    "In this project, you will summarize and present your analysis from Unit Projects 1-3."
   ]
  },
  {
   "cell_type": "markdown",
   "metadata": {},
   "source": [
    "### Question 1. Introduction: Write a problem Statement/Specific Aim for this project."
   ]
  },
  {
   "cell_type": "markdown",
   "metadata": {},
   "source": [
    "Answer: Identify factors that may influence admission into graduate schools. "
   ]
  },
  {
   "cell_type": "markdown",
   "metadata": {},
   "source": [
    "### Question 2. Dataset: Write up a description of your data and any cleaning that was completed."
   ]
  },
  {
   "cell_type": "markdown",
   "metadata": {},
   "source": [
    "Answer: The data used for the analysis includes whether the applicant was accepted, their GPA from college, their GRE score and the prestige level of the college they attended. \n",
    "\n",
    "1. Admit is a binary choice of 0 or 1 where 1 indicates admission.\n",
    "2. GPA scores range on a scale of 1 to 4 where 4 is the best. \n",
    "3. GRE scores range from 200 to 800 where 800 is the best. \n",
    "4. Prestige scores range one a scale of 1 to 4 where 4 is the best."
   ]
  },
  {
   "cell_type": "markdown",
   "metadata": {
    "collapsed": true
   },
   "source": [
    "### Question 3. Demo: Provide a table that explains the data by admission status."
   ]
  },
  {
   "cell_type": "markdown",
   "metadata": {},
   "source": [
    "Mean (STD) or counts by admission status for each variable\n",
    "\n",
    "| Not Admitted | Admitted\n",
    "---| ---|---\n",
    "GPA | 3.34 | 4.48\n",
    "GRE |573 | 618\n",
    "Prestige 1 | 46 (%) | 54 (%)\n",
    "Prestige 2 | 64 (%) | 36 (%)\n",
    "Prestige 3 |77 (%) | 23 (%)\n",
    "Prestige 4 |82 (%) | 18 (%)"
   ]
  },
  {
   "cell_type": "markdown",
   "metadata": {},
   "source": [
    "### Question 4. Methods: Write up the methods used in your analysis."
   ]
  },
  {
   "cell_type": "markdown",
   "metadata": {},
   "source": [
    "Answer: I split the table to two tables where one had data on students admitted and the other didn't. From there I used the .mean() function to assess mean wnd then crosstab function to asses the numbers used to calculate rates of admission for each presitge level."
   ]
  },
  {
   "cell_type": "markdown",
   "metadata": {},
   "source": [
    "### Question 5. Results: Write up your results."
   ]
  },
  {
   "cell_type": "markdown",
   "metadata": {},
   "source": [
    "Answer: Basically the higher a students GPA, GRE or prestige of school you attend the more likely you are to get into this graduate school. \n",
    "\n",
    "In addition to the analysis listed in the above table, I used the .corr() funtion to determine which the three data points were most indicitive to whether an applicant was accepted. GRE and GPA scores appeared to have a stronger coorelation than school prestige. "
   ]
  },
  {
   "cell_type": "markdown",
   "metadata": {},
   "source": [
    "### Question 6. Visuals: Provide a table or visualization of these results."
   ]
  },
  {
   "cell_type": "markdown",
   "metadata": {},
   "source": [
    "<img src='assets/gre.png' height= 85% width= 85%>"
   ]
  },
  {
   "cell_type": "markdown",
   "metadata": {},
   "source": [
    "<img src='assets/gpa.png' height= 85% width= 85%>"
   ]
  },
  {
   "cell_type": "markdown",
   "metadata": {},
   "source": [
    "### question 7. Discussion: Write up your discussion and future steps."
   ]
  },
  {
   "cell_type": "markdown",
   "metadata": {},
   "source": [
    "Answer: GRE and GPA are stronger indicators of whether an applicant is accepted into graduate school, while school prestige is also a contributing factor. \n",
    "\n",
    "Further investigation could include expanding the data set to further test the model and finding additional datapoints that could be indicators of acceptance. These could include characteristics such as sex, participation in extracurricular activities, isolating the data by departments at the graduate school, etc..."
   ]
  },
  {
   "cell_type": "code",
   "execution_count": null,
   "metadata": {
    "collapsed": true
   },
   "outputs": [],
   "source": []
  }
 ],
 "metadata": {
  "kernelspec": {
   "display_name": "Python 2",
   "language": "python",
   "name": "python2"
  },
  "language_info": {
   "codemirror_mode": {
    "name": "ipython",
    "version": 2
   },
   "file_extension": ".py",
   "mimetype": "text/x-python",
   "name": "python",
   "nbconvert_exporter": "python",
   "pygments_lexer": "ipython2",
   "version": "2.7.11"
  }
 },
 "nbformat": 4,
 "nbformat_minor": 0
}
